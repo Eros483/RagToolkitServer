{
 "cells": [
  {
   "cell_type": "code",
   "execution_count": 1,
   "id": "439d8421",
   "metadata": {},
   "outputs": [
    {
     "name": "stdout",
     "output_type": "stream",
     "text": [
      "[[4, 5], [5, 6], [6, 7], [7, 8], [8, 9]]\n"
     ]
    }
   ],
   "source": [
    "array=[[1,2], [2,3], [4, 5], [5,6], [6,7], [7,8], [8,9]]\n",
    "array=array[-5:]\n",
    "print(array)"
   ]
  },
  {
   "cell_type": "code",
   "execution_count": 2,
   "id": "0bd5d8a1",
   "metadata": {},
   "outputs": [],
   "source": [
    "import os\n",
    "from pymongo import MongoClient"
   ]
  },
  {
   "cell_type": "code",
   "execution_count": 3,
   "id": "22962437",
   "metadata": {},
   "outputs": [],
   "source": [
    "image_collection_path=r\"D:\\\\personalCode\\\\RAG-runner-deployment\\\\backend\\\\mongodb_sample_images\""
   ]
  },
  {
   "cell_type": "code",
   "execution_count": 4,
   "id": "b9f593d2",
   "metadata": {},
   "outputs": [],
   "source": [
    "MONGO_URI = \"mongodb://localhost:27017/\"\n",
    "DB_NAME = \"img_label_db\"\n",
    "COLLECTION_NAME = \"images\""
   ]
  },
  {
   "cell_type": "code",
   "execution_count": 5,
   "id": "11750be7",
   "metadata": {},
   "outputs": [
    {
     "name": "stdout",
     "output_type": "stream",
     "text": [
      "Connected to MongoDB database: 'img_label_db'\n"
     ]
    }
   ],
   "source": [
    "client = MongoClient(MONGO_URI)\n",
    "db = client[DB_NAME]\n",
    "collection = db[COLLECTION_NAME]\n",
    "print(f\"Connected to MongoDB database: '{DB_NAME}'\")"
   ]
  },
  {
   "cell_type": "code",
   "execution_count": 5,
   "id": "9cce9d59",
   "metadata": {},
   "outputs": [],
   "source": [
    "inserted_count = 0\n",
    "skipped_count = 0\n",
    "supported_extensions = ('.jpg', '.jpeg', '.png', '.gif', '.bmp', '.tiff', '.webp')"
   ]
  },
  {
   "cell_type": "code",
   "execution_count": 7,
   "id": "e2600145",
   "metadata": {},
   "outputs": [
    {
     "name": "stdout",
     "output_type": "stream",
     "text": [
      "Starting scan of 'D:\\\\personalCode\\\\RAG-runner-deployment\\\\backend\\\\mongodb_sample_images'...\n",
      "Skipping root directory 'D:\\\\personalCode\\\\RAG-runner-deployment\\\\backend\\\\mongodb_sample_images' as a label source.\n",
      "\n",
      "Processing folder: 'D:\\\\personalCode\\\\RAG-runner-deployment\\\\backend\\\\mongodb_sample_images\\russia' (Label: 'russia')\n",
      "  Inserted: drone.png (Label: russia)\n",
      "  Inserted: submarine.jpg (Label: russia)\n",
      "  Inserted: tank.png (Label: russia)\n",
      "\n",
      "--- Script Finished ---\n",
      "Total images inserted: 3\n",
      "Total files skipped: 0\n",
      "MongoDB connection closed.\n"
     ]
    }
   ],
   "source": [
    "print(f\"Starting scan of '{image_collection_path}'...\")\n",
    "\n",
    "for root, dirs, files in os.walk(image_collection_path):\n",
    "    # Determine the label based on the subfolder name\n",
    "    # If the root is the main IMAGE_COLLECTION_ROOT, there's no specific label for that level,\n",
    "    # so we'll look at the immediate subfolder.\n",
    "    relative_path = os.path.relpath(root, image_collection_path)\n",
    "    \n",
    "    # Skip the root directory itself unless it contains images directly (which is unlikely for labels)\n",
    "    if relative_path == \".\":\n",
    "        # Check if there are images directly in the root for a generic label, or skip.\n",
    "        # For this script, we assume subfolders define labels.\n",
    "        print(f\"Skipping root directory '{root}' as a label source.\")\n",
    "        continue\n",
    "        \n",
    "    # The label is the immediate subfolder name\n",
    "    label = os.path.basename(root)\n",
    "\n",
    "    print(f\"\\nProcessing folder: '{root}' (Label: '{label}')\")\n",
    "\n",
    "    for file in files:\n",
    "        if file.lower().endswith(supported_extensions):\n",
    "            image_name = file\n",
    "            image_full_path = os.path.join(root, file)\n",
    "\n",
    "            document = {\n",
    "                \"image_name\": image_name,\n",
    "                \"image_path\": image_full_path,\n",
    "                \"labels\": [label], # Label is the subfolder name\n",
    "                # No 'metadata' or 'capture_date' as per your requirements\n",
    "            }\n",
    "\n",
    "            try:\n",
    "                # Optional: Check if a document with this image_path already exists to avoid duplicates\n",
    "                # if collection.count_documents({\"image_path\": image_full_path}) == 0:\n",
    "                collection.insert_one(document)\n",
    "                print(f\"  Inserted: {image_name} (Label: {label})\")\n",
    "                inserted_count += 1\n",
    "                # else:\n",
    "                #     print(f\"  Skipped (already exists): {image_name}\")\n",
    "                #     skipped_count += 1\n",
    "            except Exception as e:\n",
    "                print(f\"  Error inserting {image_name}: {e}\")\n",
    "                skipped_count += 1\n",
    "        else:\n",
    "            print(f\"  Skipped (unsupported extension): {file}\")\n",
    "            skipped_count += 1\n",
    "\n",
    "print(\"\\n--- Script Finished ---\")\n",
    "print(f\"Total images inserted: {inserted_count}\")\n",
    "print(f\"Total files skipped: {skipped_count}\")\n",
    "\n",
    "# Close the MongoDB connection\n",
    "client.close()\n",
    "print(\"MongoDB connection closed.\")"
   ]
  },
  {
   "cell_type": "code",
   "execution_count": 6,
   "id": "8548e5fd",
   "metadata": {},
   "outputs": [],
   "source": [
    "client=MongoClient(MONGO_URI)\n",
    "db=client[DB_NAME]\n",
    "collection=db[COLLECTION_NAME]"
   ]
  },
  {
   "cell_type": "code",
   "execution_count": 9,
   "id": "9cc4b34d",
   "metadata": {},
   "outputs": [
    {
     "name": "stdout",
     "output_type": "stream",
     "text": [
      "MongoClient(host=['localhost:27017'], document_class=dict, tz_aware=False, connect=True)\n",
      "Database(MongoClient(host=['localhost:27017'], document_class=dict, tz_aware=False, connect=True), 'img_label_db')\n",
      "Collection(Database(MongoClient(host=['localhost:27017'], document_class=dict, tz_aware=False, connect=True), 'img_label_db'), 'images')\n"
     ]
    }
   ],
   "source": [
    "print(client)\n",
    "print(db)\n",
    "print(collection)"
   ]
  },
  {
   "cell_type": "code",
   "execution_count": 9,
   "id": "59ae4f7b",
   "metadata": {},
   "outputs": [
    {
     "name": "stdout",
     "output_type": "stream",
     "text": [
      "{'_id': ObjectId('684d0aae89fa931ead9b2ba5'), 'image_name': 'drone.png', 'image_path': 'D:\\\\\\\\personalCode\\\\\\\\RAG-runner-deployment\\\\\\\\backend\\\\\\\\mongodb_sample_images\\\\russia\\\\drone.png', 'labels': ['russia']}\n",
      "{'_id': ObjectId('684d0aae89fa931ead9b2ba6'), 'image_name': 'submarine.jpg', 'image_path': 'D:\\\\\\\\personalCode\\\\\\\\RAG-runner-deployment\\\\\\\\backend\\\\\\\\mongodb_sample_images\\\\russia\\\\submarine.jpg', 'labels': ['russia']}\n",
      "{'_id': ObjectId('684d0aae89fa931ead9b2ba7'), 'image_name': 'tank.png', 'image_path': 'D:\\\\\\\\personalCode\\\\\\\\RAG-runner-deployment\\\\\\\\backend\\\\\\\\mongodb_sample_images\\\\russia\\\\tank.png', 'labels': ['russia']}\n"
     ]
    }
   ],
   "source": [
    "for img in collection.find():\n",
    "    print(img)"
   ]
  }
 ],
 "metadata": {
  "kernelspec": {
   "display_name": "ragEnv",
   "language": "python",
   "name": "python3"
  },
  "language_info": {
   "codemirror_mode": {
    "name": "ipython",
    "version": 3
   },
   "file_extension": ".py",
   "mimetype": "text/x-python",
   "name": "python",
   "nbconvert_exporter": "python",
   "pygments_lexer": "ipython3",
   "version": "3.10.16"
  }
 },
 "nbformat": 4,
 "nbformat_minor": 5
}
