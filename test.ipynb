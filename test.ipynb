{
 "cells": [
  {
   "cell_type": "code",
   "execution_count": 11,
   "id": "439d8421",
   "metadata": {},
   "outputs": [
    {
     "name": "stdout",
     "output_type": "stream",
     "text": [
      "[[4, 5], [5, 6], [6, 7], [7, 8], [8, 9]]\n"
     ]
    }
   ],
   "source": [
    "array=[[1,2], [2,3], [4, 5], [5,6], [6,7], [7,8], [8,9]]\n",
    "array=array[-5:]\n",
    "print(array)"
   ]
  },
  {
   "cell_type": "code",
   "execution_count": 12,
   "id": "0bd5d8a1",
   "metadata": {},
   "outputs": [],
   "source": [
    "import os\n",
    "from pymongo import MongoClient"
   ]
  },
  {
   "cell_type": "code",
   "execution_count": 13,
   "id": "22962437",
   "metadata": {},
   "outputs": [],
   "source": [
    "image_collection_path=r\"backend/mongodb_sample_images\""
   ]
  },
  {
   "cell_type": "code",
   "execution_count": 14,
   "id": "b9f593d2",
   "metadata": {},
   "outputs": [],
   "source": [
    "MONGO_URI = \"mongodb://localhost:27017/\"\n",
    "DB_NAME = \"img_label_db\"\n",
    "COLLECTION_NAME = \"images\""
   ]
  },
  {
   "cell_type": "code",
   "execution_count": 15,
   "id": "11750be7",
   "metadata": {},
   "outputs": [
    {
     "name": "stdout",
     "output_type": "stream",
     "text": [
      "Connected to MongoDB database: 'img_label_db'\n"
     ]
    }
   ],
   "source": [
    "client = MongoClient(MONGO_URI)\n",
    "db = client[DB_NAME]\n",
    "collection = db[COLLECTION_NAME]\n",
    "print(f\"Connected to MongoDB database: '{DB_NAME}'\")"
   ]
  },
  {
   "cell_type": "code",
   "execution_count": 16,
   "id": "9cce9d59",
   "metadata": {},
   "outputs": [],
   "source": [
    "inserted_count = 0\n",
    "skipped_count = 0\n",
    "supported_extensions = ('.jpg', '.jpeg', '.png', '.gif', '.bmp', '.tiff', '.webp')"
   ]
  },
  {
   "cell_type": "code",
   "execution_count": 17,
   "id": "e2600145",
   "metadata": {},
   "outputs": [
    {
     "name": "stdout",
     "output_type": "stream",
     "text": [
      "Starting scan of 'backend/mongodb_sample_images'...\n",
      "Skipping root directory 'backend/mongodb_sample_images' as a label source.\n",
      "\n",
      "Processing folder: 'backend/mongodb_sample_images\\food grain analytics' (Label: 'food grain analytics')\n",
      "  Inserted: department of food and public distribution.jpg (Label: food grain analytics)\n",
      "  Inserted: grain analyzer market size 2022-2032.png (Label: food grain analytics)\n",
      "  Inserted: Grain-Analysis-Kit.jpg (Label: food grain analytics)\n",
      "  Inserted: grains.jpg (Label: food grain analytics)\n",
      "  Inserted: India Gran Analysis Market by Size, Share and Forecast.jpg (Label: food grain analytics)\n",
      "  Inserted: nitrogen analyzer equipment.png (Label: food grain analytics)\n",
      "  Inserted: plastic grain analysis kit.jpg (Label: food grain analytics)\n",
      "\n",
      "Processing folder: 'backend/mongodb_sample_images\\mumbai bombing' (Label: 'mumbai bombing')\n",
      "  Inserted: candelight vigil.jpg (Label: mumbai bombing)\n",
      "  Inserted: explosions.jpg (Label: mumbai bombing)\n",
      "  Inserted: fire at taj.jpg (Label: mumbai bombing)\n",
      "  Inserted: firefighting efforts.jpg (Label: mumbai bombing)\n",
      "  Inserted: military takes control.jpg (Label: mumbai bombing)\n",
      "  Inserted: police involvement.jpg (Label: mumbai bombing)\n",
      "\n",
      "Processing folder: 'backend/mongodb_sample_images\\russia' (Label: 'russia')\n",
      "  Inserted: drone.png (Label: russia)\n",
      "  Inserted: submarine.jpg (Label: russia)\n",
      "  Inserted: tank.png (Label: russia)\n",
      "\n",
      "--- Script Finished ---\n",
      "Total images inserted: 16\n",
      "Total files skipped: 0\n",
      "MongoDB connection closed.\n"
     ]
    }
   ],
   "source": [
    "print(f\"Starting scan of '{image_collection_path}'...\")\n",
    "\n",
    "for root, dirs, files in os.walk(image_collection_path):\n",
    "    # Determine the label based on the subfolder name\n",
    "    # If the root is the main IMAGE_COLLECTION_ROOT, there's no specific label for that level,\n",
    "    # so we'll look at the immediate subfolder.\n",
    "    relative_path = os.path.relpath(root, image_collection_path)\n",
    "    \n",
    "    # Skip the root directory itself unless it contains images directly (which is unlikely for labels)\n",
    "    if relative_path == \".\":\n",
    "        # Check if there are images directly in the root for a generic label, or skip.\n",
    "        # For this script, we assume subfolders define labels.\n",
    "        print(f\"Skipping root directory '{root}' as a label source.\")\n",
    "        continue\n",
    "        \n",
    "    # The label is the immediate subfolder name\n",
    "    label = os.path.basename(root)\n",
    "\n",
    "    print(f\"\\nProcessing folder: '{root}' (Label: '{label}')\")\n",
    "\n",
    "    for file in files:\n",
    "        if file.lower().endswith(supported_extensions):\n",
    "            image_name = file\n",
    "            image_full_path = os.path.join(root, file)\n",
    "\n",
    "            document = {\n",
    "                \"image_name\": image_name,\n",
    "                \"image_path\": image_full_path,\n",
    "                \"labels\": [label], # Label is the subfolder name\n",
    "                # No 'metadata' or 'capture_date' as per your requirements\n",
    "            }\n",
    "\n",
    "            try:\n",
    "                # Optional: Check if a document with this image_path already exists to avoid duplicates\n",
    "                # if collection.count_documents({\"image_path\": image_full_path}) == 0:\n",
    "                collection.insert_one(document)\n",
    "                print(f\"  Inserted: {image_name} (Label: {label})\")\n",
    "                inserted_count += 1\n",
    "                # else:\n",
    "                #     print(f\"  Skipped (already exists): {image_name}\")\n",
    "                #     skipped_count += 1\n",
    "            except Exception as e:\n",
    "                print(f\"  Error inserting {image_name}: {e}\")\n",
    "                skipped_count += 1\n",
    "        else:\n",
    "            print(f\"  Skipped (unsupported extension): {file}\")\n",
    "            skipped_count += 1\n",
    "\n",
    "print(\"\\n--- Script Finished ---\")\n",
    "print(f\"Total images inserted: {inserted_count}\")\n",
    "print(f\"Total files skipped: {skipped_count}\")\n",
    "\n",
    "# Close the MongoDB connection\n",
    "client.close()\n",
    "print(\"MongoDB connection closed.\")"
   ]
  },
  {
   "cell_type": "code",
   "execution_count": 18,
   "id": "8548e5fd",
   "metadata": {},
   "outputs": [],
   "source": [
    "client=MongoClient(MONGO_URI)\n",
    "db=client[DB_NAME]\n",
    "collection=db[COLLECTION_NAME]"
   ]
  },
  {
   "cell_type": "code",
   "execution_count": 19,
   "id": "9cc4b34d",
   "metadata": {},
   "outputs": [
    {
     "name": "stdout",
     "output_type": "stream",
     "text": [
      "MongoClient(host=['localhost:27017'], document_class=dict, tz_aware=False, connect=True)\n",
      "Database(MongoClient(host=['localhost:27017'], document_class=dict, tz_aware=False, connect=True), 'img_label_db')\n",
      "Collection(Database(MongoClient(host=['localhost:27017'], document_class=dict, tz_aware=False, connect=True), 'img_label_db'), 'images')\n"
     ]
    }
   ],
   "source": [
    "print(client)\n",
    "print(db)\n",
    "print(collection)"
   ]
  },
  {
   "cell_type": "code",
   "execution_count": 20,
   "id": "59ae4f7b",
   "metadata": {},
   "outputs": [
    {
     "name": "stdout",
     "output_type": "stream",
     "text": [
      "{'_id': ObjectId('6855256390c0abb6fd581e22'), 'image_name': 'candelight vigil.jpg', 'image_path': 'C:\\\\\\\\Users\\\\\\\\Lenovo\\\\\\\\demo\\\\\\\\rag-runner-deployment-main\\\\\\\\backend\\\\\\\\mongodb_sample_images\\\\mumbai bombing\\\\candelight vigil.jpg', 'labels': ['mumbai bombing']}\n",
      "{'_id': ObjectId('6855256390c0abb6fd581e23'), 'image_name': 'explosions.jpg', 'image_path': 'C:\\\\\\\\Users\\\\\\\\Lenovo\\\\\\\\demo\\\\\\\\rag-runner-deployment-main\\\\\\\\backend\\\\\\\\mongodb_sample_images\\\\mumbai bombing\\\\explosions.jpg', 'labels': ['mumbai bombing']}\n",
      "{'_id': ObjectId('6855256390c0abb6fd581e24'), 'image_name': 'fire at taj.jpg', 'image_path': 'C:\\\\\\\\Users\\\\\\\\Lenovo\\\\\\\\demo\\\\\\\\rag-runner-deployment-main\\\\\\\\backend\\\\\\\\mongodb_sample_images\\\\mumbai bombing\\\\fire at taj.jpg', 'labels': ['mumbai bombing']}\n",
      "{'_id': ObjectId('6855256390c0abb6fd581e25'), 'image_name': 'firefighting efforts.jpg', 'image_path': 'C:\\\\\\\\Users\\\\\\\\Lenovo\\\\\\\\demo\\\\\\\\rag-runner-deployment-main\\\\\\\\backend\\\\\\\\mongodb_sample_images\\\\mumbai bombing\\\\firefighting efforts.jpg', 'labels': ['mumbai bombing']}\n",
      "{'_id': ObjectId('6855256390c0abb6fd581e26'), 'image_name': 'military takes control.jpg', 'image_path': 'C:\\\\\\\\Users\\\\\\\\Lenovo\\\\\\\\demo\\\\\\\\rag-runner-deployment-main\\\\\\\\backend\\\\\\\\mongodb_sample_images\\\\mumbai bombing\\\\military takes control.jpg', 'labels': ['mumbai bombing']}\n",
      "{'_id': ObjectId('6855256390c0abb6fd581e27'), 'image_name': 'police involvement.jpg', 'image_path': 'C:\\\\\\\\Users\\\\\\\\Lenovo\\\\\\\\demo\\\\\\\\rag-runner-deployment-main\\\\\\\\backend\\\\\\\\mongodb_sample_images\\\\mumbai bombing\\\\police involvement.jpg', 'labels': ['mumbai bombing']}\n",
      "{'_id': ObjectId('6855256390c0abb6fd581e28'), 'image_name': 'drone.png', 'image_path': 'C:\\\\\\\\Users\\\\\\\\Lenovo\\\\\\\\demo\\\\\\\\rag-runner-deployment-main\\\\\\\\backend\\\\\\\\mongodb_sample_images\\\\russia\\\\drone.png', 'labels': ['russia']}\n",
      "{'_id': ObjectId('6855256390c0abb6fd581e29'), 'image_name': 'submarine.jpg', 'image_path': 'C:\\\\\\\\Users\\\\\\\\Lenovo\\\\\\\\demo\\\\\\\\rag-runner-deployment-main\\\\\\\\backend\\\\\\\\mongodb_sample_images\\\\russia\\\\submarine.jpg', 'labels': ['russia']}\n",
      "{'_id': ObjectId('6855256390c0abb6fd581e2a'), 'image_name': 'tank.png', 'image_path': 'C:\\\\\\\\Users\\\\\\\\Lenovo\\\\\\\\demo\\\\\\\\rag-runner-deployment-main\\\\\\\\backend\\\\\\\\mongodb_sample_images\\\\russia\\\\tank.png', 'labels': ['russia']}\n",
      "{'_id': ObjectId('68674b089c04ff4e7566647f'), 'image_name': 'department of food and public distribution.jpg', 'image_path': 'backend/mongodb_sample_images\\\\food grain analytics\\\\department of food and public distribution.jpg', 'labels': ['food grain analytics']}\n",
      "{'_id': ObjectId('68674b089c04ff4e75666480'), 'image_name': 'grain analyzer market size 2022-2032.png', 'image_path': 'backend/mongodb_sample_images\\\\food grain analytics\\\\grain analyzer market size 2022-2032.png', 'labels': ['food grain analytics']}\n",
      "{'_id': ObjectId('68674b089c04ff4e75666481'), 'image_name': 'Grain-Analysis-Kit.jpg', 'image_path': 'backend/mongodb_sample_images\\\\food grain analytics\\\\Grain-Analysis-Kit.jpg', 'labels': ['food grain analytics']}\n",
      "{'_id': ObjectId('68674b089c04ff4e75666482'), 'image_name': 'grains.jpg', 'image_path': 'backend/mongodb_sample_images\\\\food grain analytics\\\\grains.jpg', 'labels': ['food grain analytics']}\n",
      "{'_id': ObjectId('68674b089c04ff4e75666483'), 'image_name': 'India Gran Analysis Market by Size, Share and Forecast.jpg', 'image_path': 'backend/mongodb_sample_images\\\\food grain analytics\\\\India Gran Analysis Market by Size, Share and Forecast.jpg', 'labels': ['food grain analytics']}\n",
      "{'_id': ObjectId('68674b089c04ff4e75666484'), 'image_name': 'nitrogen analyzer equipment.png', 'image_path': 'backend/mongodb_sample_images\\\\food grain analytics\\\\nitrogen analyzer equipment.png', 'labels': ['food grain analytics']}\n",
      "{'_id': ObjectId('68674b089c04ff4e75666485'), 'image_name': 'plastic grain analysis kit.jpg', 'image_path': 'backend/mongodb_sample_images\\\\food grain analytics\\\\plastic grain analysis kit.jpg', 'labels': ['food grain analytics']}\n",
      "{'_id': ObjectId('68674b089c04ff4e75666486'), 'image_name': 'candelight vigil.jpg', 'image_path': 'backend/mongodb_sample_images\\\\mumbai bombing\\\\candelight vigil.jpg', 'labels': ['mumbai bombing']}\n",
      "{'_id': ObjectId('68674b089c04ff4e75666487'), 'image_name': 'explosions.jpg', 'image_path': 'backend/mongodb_sample_images\\\\mumbai bombing\\\\explosions.jpg', 'labels': ['mumbai bombing']}\n",
      "{'_id': ObjectId('68674b089c04ff4e75666488'), 'image_name': 'fire at taj.jpg', 'image_path': 'backend/mongodb_sample_images\\\\mumbai bombing\\\\fire at taj.jpg', 'labels': ['mumbai bombing']}\n",
      "{'_id': ObjectId('68674b089c04ff4e75666489'), 'image_name': 'firefighting efforts.jpg', 'image_path': 'backend/mongodb_sample_images\\\\mumbai bombing\\\\firefighting efforts.jpg', 'labels': ['mumbai bombing']}\n",
      "{'_id': ObjectId('68674b089c04ff4e7566648a'), 'image_name': 'military takes control.jpg', 'image_path': 'backend/mongodb_sample_images\\\\mumbai bombing\\\\military takes control.jpg', 'labels': ['mumbai bombing']}\n",
      "{'_id': ObjectId('68674b089c04ff4e7566648b'), 'image_name': 'police involvement.jpg', 'image_path': 'backend/mongodb_sample_images\\\\mumbai bombing\\\\police involvement.jpg', 'labels': ['mumbai bombing']}\n",
      "{'_id': ObjectId('68674b089c04ff4e7566648c'), 'image_name': 'drone.png', 'image_path': 'backend/mongodb_sample_images\\\\russia\\\\drone.png', 'labels': ['russia']}\n",
      "{'_id': ObjectId('68674b089c04ff4e7566648d'), 'image_name': 'submarine.jpg', 'image_path': 'backend/mongodb_sample_images\\\\russia\\\\submarine.jpg', 'labels': ['russia']}\n",
      "{'_id': ObjectId('68674b089c04ff4e7566648e'), 'image_name': 'tank.png', 'image_path': 'backend/mongodb_sample_images\\\\russia\\\\tank.png', 'labels': ['russia']}\n"
     ]
    }
   ],
   "source": [
    "for img in collection.find():\n",
    "    print(img)"
   ]
  }
 ],
 "metadata": {
  "kernelspec": {
   "display_name": "ragEnv",
   "language": "python",
   "name": "python3"
  },
  "language_info": {
   "codemirror_mode": {
    "name": "ipython",
    "version": 3
   },
   "file_extension": ".py",
   "mimetype": "text/x-python",
   "name": "python",
   "nbconvert_exporter": "python",
   "pygments_lexer": "ipython3",
   "version": "3.10.16"
  }
 },
 "nbformat": 4,
 "nbformat_minor": 5
}
